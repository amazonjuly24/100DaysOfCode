{
 "cells": [
  {
   "cell_type": "code",
   "execution_count": 10,
   "metadata": {},
   "outputs": [
    {
     "data": {
      "text/plain": [
       "(1797, 64)"
      ]
     },
     "execution_count": 10,
     "metadata": {},
     "output_type": "execute_result"
    }
   ],
   "source": [
    "from sklearn.datasets import load_digits\n",
    "from sklearn.cluster import KMeans\n",
    "import matplotlib.pyplot as plt\n",
    "digit=load_digits()\n",
    "digit.data.shape"
   ]
  },
  {
   "cell_type": "code",
   "execution_count": 11,
   "metadata": {},
   "outputs": [
    {
     "data": {
      "text/plain": [
       "(10, 64)"
      ]
     },
     "execution_count": 11,
     "metadata": {},
     "output_type": "execute_result"
    }
   ],
   "source": [
    "kmeans=KMeans(n_clusters=10,random_state=0)\n",
    "clusters=kmeans.fit_predict(digit.data)\n",
    "kmeans.cluster_centers_.shape\n",
    "#result output 10 clusters on 64 dimensions"
   ]
  },
  {
   "cell_type": "code",
   "execution_count": 12,
   "metadata": {},
   "outputs": [
    {
     "data": {
      "image/png": "[encoded data removed]",
      "text/plain": [
       "<Figure size 576x216 with 10 Axes>"
      ]
     },
     "metadata": {},
     "output_type": "display_data"
    }
   ],
   "source": [
    "fig, ax=plt.subplots(2,5,figsize=(8,3))\n",
    "centers= kmeans.cluster_centers_.reshape(10,8,8)\n",
    "for axi, center in zip(ax.flat, centers):\n",
    "    axi.set(xticks=[], yticks=[])\n",
    "    axi.imshow(center, interpolation='nearest', cmap=plt.cm.binary)\n",
    "    # even without the labels, KMeans is able to find clusters whose centers are recognizable digits, with perhaps the exception of 1 and 8."
   ]
  },
  {
   "cell_type": "code",
   "execution_count": 16,
   "metadata": {},
   "outputs": [],
   "source": [
    "#fix each learned cluster label with true labels\n",
    "from scipy.stats import mode\n",
    "import numpy as np\n",
    "labels= np.zeros_like(clusters)\n",
    "for i in range(10):\n",
    "    mask=(clusters==i)\n",
    "    labels[mask] = mode(digit.target[mask])[0]"
   ]
  },
  {
   "cell_type": "code",
   "execution_count": 18,
   "metadata": {},
   "outputs": [
    {
     "data": {
      "text/plain": [
       "0.7935447968836951"
      ]
     },
     "execution_count": 18,
     "metadata": {},
     "output_type": "execute_result"
    }
   ],
   "source": [
    "#now checking the accuracy\n",
    "from sklearn.metrics import accuracy_score\n",
    "accuracy_score(digit.target, labels)\n",
    "#correct grouping for 80% of input digits"
   ]
  },
  {
   "cell_type": "code",
   "execution_count": 21,
   "metadata": {},
   "outputs": [
    {
     "data": {
      "text/plain": [
       "Text(91.68,0.5,'predicted label')"
      ]
     },
     "execution_count": 21,
     "metadata": {},
     "output_type": "execute_result"
    },
    {
     "data": {
      "image/png": "[encoded data removed]",
      "text/plain": [
       "<Figure size 432x288 with 1 Axes>"
      ]
     },
     "metadata": {},
     "output_type": "display_data"
    }
   ],
   "source": [
    "#now checking the confusion matrix\n",
    "from sklearn.metrics import confusion_matrix\n",
    "import seaborn as sns\n",
    "mat=confusion_matrix(digit.target,labels)\n",
    "sns.heatmap(mat.T, square=True, annot=True,fmt='d',cbar=False,xticklabels=digit.target_names,yticklabels=digit.target_names)\n",
    "plt.xlabel(\"true label\")\n",
    "plt.ylabel(\"predicted label\")\n",
    "#thus we can build a digit classifier without reference to any know labels"
   ]
  },
  {
   "cell_type": "code",
   "execution_count": 26,
   "metadata": {},
   "outputs": [
    {
     "data": {
      "text/plain": [
       "0.9326655537006121"
      ]
     },
     "execution_count": 26,
     "metadata": {},
     "output_type": "execute_result"
    }
   ],
   "source": [
    "#Improving accuracy further more with t-distributed stochastic neighbour embedding(t-SNE) algorithm\n",
    "from sklearn.manifold import TSNE\n",
    "#data projection\n",
    "tnse=TSNE(n_components=2, init='random',random_state=0)\n",
    "digits_proj=tnse.fit_transform(digit.data)\n",
    "\n",
    "#compute the cluster\n",
    "kmeans=KMeans(n_clusters=10, random_state=0)\n",
    "clusters=kmeans.fit_predict(digits_proj)\n",
    "\n",
    "#permute the labels\n",
    "labels=np.zeros_like(clusters)\n",
    "for i in range(10):\n",
    "    mask=(clusters==i)\n",
    "    labels[mask]=mode(digit.target[mask])[0]\n",
    "    \n",
    "#compute the accuracy\n",
    "accuracy_score(digit.target,labels)"
   ]
  },
  {
   "cell_type": "code",
   "execution_count": null,
   "metadata": {},
   "outputs": [],
   "source": [
    "#nearly 92% of classification accuaracy is obtained without using the labels:)"
   ]
  }
 ],
 "metadata": {
  "kernelspec": {
   "display_name": "Python 3",
   "language": "python",
   "name": "python3"
  },
  "language_info": {
   "codemirror_mode": {
    "name": "ipython",
    "version": 3
   },
   "file_extension": ".py",
   "mimetype": "text/x-python",
   "name": "python",
   "nbconvert_exporter": "python",
   "pygments_lexer": "ipython3",
   "version": "3.5.2"
  }
 },
 "nbformat": 4,
 "nbformat_minor": 2
}
